{
 "cells": [
  {
   "cell_type": "code",
   "execution_count": 1,
   "metadata": {},
   "outputs": [],
   "source": [
    "import numpy as np\n",
    "import matplotlib.pyplot as plt\n",
    "from sklearn import datasets\n",
    "\n",
    "digits = datasets.load_digits()\n",
    "X = digits.data\n",
    "y = digits.target.copy()\n",
    "\n",
    "y[digits.target==9] = 1\n",
    "y[digits.target!=9] = 0\n",
    "\n",
    "from sklearn.model_selection import train_test_split\n",
    "\n",
    "X_train, X_test, y_train, y_test = train_test_split(X, y, random_state=500)"
   ]
  },
  {
   "cell_type": "code",
   "execution_count": 2,
   "metadata": {},
   "outputs": [
    {
     "name": "stderr",
     "output_type": "stream",
     "text": [
      "/Users/twu/.pyenv/versions/anaconda3-5.2.0/envs/datascience/lib/python3.6/site-packages/sklearn/linear_model/logistic.py:432: FutureWarning: Default solver will be changed to 'lbfgs' in 0.22. Specify a solver to silence this warning.\n",
      "  FutureWarning)\n"
     ]
    }
   ],
   "source": [
    "from sklearn.linear_model import LogisticRegression\n",
    "\n",
    "log_reg = LogisticRegression()\n",
    "log_reg.fit(X_train, y_train)\n",
    "y_log_predict = log_reg.predict(X_test)"
   ]
  },
  {
   "cell_type": "code",
   "execution_count": 3,
   "metadata": {},
   "outputs": [
    {
     "data": {
      "text/plain": [
       "0.8500000000000001"
      ]
     },
     "execution_count": 3,
     "metadata": {},
     "output_type": "execute_result"
    }
   ],
   "source": [
    "from sklearn.metrics import f1_score\n",
    "\n",
    "f1_score(y_test, y_log_predict)"
   ]
  },
  {
   "cell_type": "code",
   "execution_count": 4,
   "metadata": {},
   "outputs": [
    {
     "data": {
      "text/plain": [
       "array([[404,   5],\n",
       "       [  7,  34]])"
      ]
     },
     "execution_count": 4,
     "metadata": {},
     "output_type": "execute_result"
    }
   ],
   "source": [
    "from sklearn.metrics import confusion_matrix\n",
    "\n",
    "confusion_matrix(y_test, y_log_predict)"
   ]
  },
  {
   "cell_type": "code",
   "execution_count": 5,
   "metadata": {},
   "outputs": [
    {
     "data": {
      "text/plain": [
       "0.8717948717948718"
      ]
     },
     "execution_count": 5,
     "metadata": {},
     "output_type": "execute_result"
    }
   ],
   "source": [
    "from sklearn.metrics import precision_score\n",
    "\n",
    "precision_score(y_test, y_log_predict)"
   ]
  },
  {
   "cell_type": "code",
   "execution_count": 6,
   "metadata": {},
   "outputs": [
    {
     "data": {
      "text/plain": [
       "0.8292682926829268"
      ]
     },
     "execution_count": 6,
     "metadata": {},
     "output_type": "execute_result"
    }
   ],
   "source": [
    "from sklearn.metrics import recall_score\n",
    "\n",
    "recall_score(y_test, y_log_predict)"
   ]
  },
  {
   "cell_type": "code",
   "execution_count": 7,
   "metadata": {},
   "outputs": [
    {
     "data": {
      "text/plain": [
       "array([-3.86921936e+01, -2.91916753e+01, -1.75035595e+01, -1.79197894e+01,\n",
       "       -5.32944836e+01, -1.08165258e+01, -1.13396307e+01, -1.11402441e+01,\n",
       "       -2.68077937e+01,  4.13804386e+00, -7.60968315e+00,  1.25043279e+01,\n",
       "       -1.04582218e+01, -1.40021178e+01, -1.11475508e+01, -4.66242136e+01,\n",
       "       -4.57501545e+01, -1.55235734e+01,  6.68327333e+00, -1.00736236e+01,\n",
       "       -1.80863438e+01, -1.52734281e+01, -1.25588480e+00,  8.04508792e+00,\n",
       "       -5.90737651e+01, -4.92585666e+01, -2.23394635e+00, -1.09917242e+01,\n",
       "       -7.26835575e+00, -1.22277672e+01,  7.33761965e+00, -1.63070426e+01,\n",
       "       -1.40075841e+01, -2.03505364e+01, -3.42299834e+01, -4.62546568e+01,\n",
       "       -1.78922339e+01, -4.97938787e+00,  5.13281390e+00, -2.02515353e+01,\n",
       "       -2.25933930e+01, -1.50813557e+01, -1.37179622e+01, -4.85781824e+01,\n",
       "       -2.44237154e+01, -1.26640158e+01,  1.02419379e+01, -2.12384491e+01,\n",
       "       -9.89279083e+00, -1.62006174e+01, -7.80310887e+01, -3.50914185e+01,\n",
       "       -5.28850606e+00, -6.27358339e+00, -2.46776721e+01, -3.67913837e+00,\n",
       "       -1.13764907e+00, -1.84705826e+01, -4.30800852e+01, -3.08658551e+01,\n",
       "       -1.91196086e+01, -1.64079434e+01,  8.82851983e+00, -1.16755793e+01,\n",
       "       -1.34762018e+01, -4.20000978e+01, -3.16851509e+01, -6.57703201e+00,\n",
       "       -1.87849223e+01,  8.78754262e+00, -1.14853964e+01, -1.24127324e+01,\n",
       "        4.86181805e+00, -1.58803879e+01, -2.05198927e+01, -5.25874606e-02,\n",
       "       -2.09501945e+01, -5.08060021e+01, -1.44651750e+01, -2.31109206e+01,\n",
       "       -6.14267549e+01, -1.87924367e+01, -2.99061214e+01, -8.00139772e+00,\n",
       "       -8.57020529e+00, -3.46603428e+01, -1.78788296e+01, -1.74708267e+01,\n",
       "       -1.15054405e+01, -3.70085270e+00, -1.44541573e+01, -4.90917721e+01,\n",
       "       -1.38759520e+01, -1.35780603e+01, -3.75948555e+01, -1.11706610e+01,\n",
       "       -6.58112309e+01, -4.00581915e+01, -1.40281161e+01,  4.38217558e+00,\n",
       "        9.83262223e+00,  7.26423018e+00, -1.09408673e+01, -3.14483765e+01,\n",
       "       -1.09007283e+01, -1.14539682e+01, -3.25971487e+01, -2.66807743e+01,\n",
       "       -8.35809210e+00, -4.37153514e+00, -1.61315521e+01, -6.41076250e+01,\n",
       "       -2.99986603e+01, -7.11326446e+00, -7.47490843e+00, -1.12665448e+01,\n",
       "       -3.03687590e+01, -1.94148084e+01,  7.48048679e+00, -5.23933321e+00,\n",
       "       -2.94708399e+01, -9.29209429e+00, -2.98946493e+01, -3.72946230e+01,\n",
       "       -1.02133006e+01, -7.29959421e+01, -3.29428741e+01, -2.14970605e+01,\n",
       "       -9.06558430e+00, -5.70951920e-01, -5.62580037e+00, -1.92705360e+01,\n",
       "       -1.37140663e+01, -2.51926593e+01, -9.72347017e+00, -4.25227165e+01,\n",
       "       -1.83881632e+01, -1.85863176e+01, -2.96088367e+01, -6.42215872e+01,\n",
       "       -4.34556505e+01, -2.64683711e+01, -1.68461088e+01, -1.32130674e+01,\n",
       "       -1.45137275e+01, -6.84559495e+00, -1.85211852e+01,  7.46727814e+00,\n",
       "       -2.06691505e+01, -5.55784553e+01, -2.50154860e+01, -1.84070729e+01,\n",
       "       -2.89584943e+01, -1.61829218e+01, -2.14321643e+01,  1.00329253e+01,\n",
       "       -8.34676033e+00, -1.47369745e+01, -2.20740258e+01, -2.87239671e-01,\n",
       "       -5.81516027e+00, -1.98975665e+01, -5.71502812e+01, -6.41234168e+01,\n",
       "        6.60200602e-01, -1.57722457e+01, -2.20813966e+01, -3.02033320e+01,\n",
       "       -1.08252782e+01, -2.94302888e+01, -1.93494682e+01, -1.99584326e+01,\n",
       "       -4.00459809e+01,  4.73660768e+00, -1.15941802e+01,  1.72248525e+00,\n",
       "       -9.82907275e+00, -1.74757541e+01, -1.20486157e+01, -4.97532011e+01,\n",
       "       -3.74991237e+01, -1.48079379e+01, -1.28177642e+01, -4.26591477e+01,\n",
       "       -2.34278727e+01, -4.99784452e+01, -1.27995662e+01, -3.95827315e+01,\n",
       "       -2.72575991e+01, -1.98956544e+01, -2.06358475e+01, -1.05343065e+01,\n",
       "       -3.64440607e+01, -3.14721163e+01, -1.94384743e+01, -6.68752698e+00,\n",
       "        9.53079418e+00, -1.03683941e+01, -6.74935335e+00, -3.82263422e+01,\n",
       "       -1.60474144e+01, -7.75182762e+00, -3.60685990e+01, -3.94782380e+01,\n",
       "       -1.80845278e+01, -2.46831130e+01, -5.14763925e+01, -1.81349640e+01,\n",
       "       -2.89393940e+01, -2.03826700e+01, -2.62970156e+00, -1.00220150e+01,\n",
       "       -2.77609584e+01, -3.87272140e+01, -1.54047379e+01, -6.18168709e+01,\n",
       "       -1.96118958e+01, -2.13595014e+01, -4.94649041e+01, -5.84747843e+00,\n",
       "       -1.44288129e+01, -7.88129333e+00, -1.62348977e+01, -1.53907009e+01,\n",
       "       -1.66155434e+01, -1.43582897e+01, -9.37643689e+00, -2.59621326e+01,\n",
       "       -6.04785505e+00, -3.13311547e+00, -3.83351394e+01, -1.53518430e+01,\n",
       "       -5.38238974e+00, -1.17581701e+01, -1.91803387e+01, -2.97385937e+01,\n",
       "        4.84790039e+00, -2.32201835e+01, -1.54189686e+01, -2.52351116e+00,\n",
       "       -3.87569668e+01, -2.24206262e+01, -1.27528331e+01, -2.03127690e+01,\n",
       "       -4.52938431e+01, -2.31214166e+01, -4.05849250e+01, -1.77853634e+01,\n",
       "       -3.62855081e+01, -2.54005959e+01, -6.16444013e+01, -5.71340254e+01,\n",
       "       -1.36634402e+01, -4.75754854e+01, -2.67190400e+01,  6.49731726e+00,\n",
       "       -2.60836892e+01, -1.41893276e+01, -3.80114278e+01, -1.63815508e+01,\n",
       "       -7.64885647e+01, -8.97560085e+00,  1.57606179e+00, -1.71937939e+01,\n",
       "       -4.15335423e+01, -1.10047229e+01, -1.95872569e+01, -8.54053424e+00,\n",
       "       -3.35031592e+01, -2.08601506e+01, -6.18408765e+01, -1.33999490e+01,\n",
       "       -2.44963866e+01, -4.44535839e+01, -3.00044551e+00,  8.25340120e-01,\n",
       "       -1.40286378e+01, -6.36365480e+01, -1.22715860e+01,  7.96678927e+00,\n",
       "       -1.14127812e+01, -1.13896478e+01, -5.40034961e+01, -1.08642025e+01,\n",
       "       -1.30355054e+01,  5.92147470e+00, -5.41597567e+01, -6.24398744e+01,\n",
       "       -1.94289372e+01,  4.91968248e+00, -3.02929165e+01, -1.63713214e+01,\n",
       "       -3.70810559e+01, -1.02591350e+01, -1.20965116e+01, -5.07517417e+00,\n",
       "       -9.96909965e+00, -8.17159444e+00, -5.81764028e+01, -2.51541809e+01,\n",
       "       -1.67413496e+01, -1.43412101e+01, -1.65404777e+01, -1.01911365e+01,\n",
       "        7.17807967e+00, -1.34292021e+00,  6.28018016e+00, -2.93814346e+01,\n",
       "       -3.52088614e+01, -1.87684366e+01, -1.55408432e+01, -7.16444608e+01,\n",
       "       -3.55141247e+01, -2.51556426e+01, -2.08188310e+01, -1.60581756e+01,\n",
       "       -3.36883591e+01, -1.11436237e+01,  2.21212905e+00,  1.80996334e+00,\n",
       "       -4.77422166e+01, -7.34453847e+00, -2.04404579e+01, -1.56045600e+01,\n",
       "       -1.01801203e+01, -1.50833613e+01,  3.71789700e+00, -3.32151055e+01,\n",
       "       -6.27585863e+01, -1.27201904e+01, -1.06176038e+01, -1.92898237e+01,\n",
       "       -6.48548387e+01, -2.15424000e+01, -1.22735184e+01, -1.30401056e+01,\n",
       "       -1.53935355e+01, -2.05635687e+01, -1.36831316e+01, -1.52523785e+01,\n",
       "       -1.03151588e+01, -2.48277042e+01, -2.53544359e+01, -1.55188251e+01,\n",
       "       -1.28091091e+01, -1.90459832e+01, -2.78839148e+01, -5.32973738e+01,\n",
       "       -2.30879125e+00, -2.07897428e+01, -1.57121562e+01, -2.93810821e+01,\n",
       "       -1.50554701e+01, -3.29867925e+01, -5.09200892e+00, -8.73691664e+00,\n",
       "       -2.75429988e+01, -3.03023453e+01,  7.32072137e+00, -2.15260145e+01,\n",
       "       -1.18598358e+01, -4.68789943e+01, -8.03959181e+00, -1.17190414e+01,\n",
       "       -1.07393471e+01, -6.16920669e+00, -8.55176482e+00, -9.07270195e+00,\n",
       "       -5.96815885e+00,  2.25570951e+00, -7.22798658e+01, -6.22794082e+00,\n",
       "       -4.05150976e+00,  6.90189322e+00, -3.11845579e+01, -4.93500399e+01,\n",
       "       -6.37832495e+01, -2.88373802e+01, -2.02041849e+01, -2.56443733e+01,\n",
       "       -3.38488184e+01, -7.70987993e+00, -1.83388656e+01, -2.49871858e+01,\n",
       "       -1.27856475e+01,  8.14643598e+00, -4.88292217e+01, -2.47403089e+01,\n",
       "       -2.17939262e+01, -2.13802915e+01,  5.19635565e+00, -3.09244321e+01,\n",
       "       -4.10215636e-01, -1.10362319e+01, -3.19624543e+01, -2.24366184e+01,\n",
       "       -4.82204293e+00, -3.43592570e+00, -2.12608557e+01, -5.74044202e+01,\n",
       "       -1.25377646e+01, -2.21015600e+01, -3.18113075e+01, -6.12609676e+01,\n",
       "       -2.77494956e+01, -2.05475992e+01, -3.68822613e+01,  8.28124860e+00,\n",
       "       -2.30714585e+01, -1.79972584e+01, -6.97991969e+01, -4.98393232e+01,\n",
       "       -3.05874515e+01, -3.58141308e+01, -3.37160297e+01, -3.37142291e+01,\n",
       "       -1.29068883e+01, -4.00615217e+01, -3.38524024e+01, -2.78529115e+01,\n",
       "       -6.52047714e+01, -1.51523321e+01, -1.31524087e+01, -4.26832014e+01,\n",
       "       -4.45960816e+00, -1.67418311e+01, -2.01625721e+01, -6.40229878e+00,\n",
       "       -5.41709922e+01, -9.83027403e+00, -3.06891138e+01, -1.36832561e+01,\n",
       "       -1.23709192e+01, -1.58465566e+01, -2.84569571e+00, -1.21931940e+01,\n",
       "       -5.68165333e+01, -1.16317536e+01, -5.24191256e+00, -1.66713744e+01,\n",
       "       -1.29886136e+01,  1.27481284e+01, -1.08666957e+01, -1.05320718e+01,\n",
       "       -5.92895362e+01, -1.42300602e+01, -2.23522898e+01, -1.87462290e+01,\n",
       "       -5.53732965e+01, -2.16035056e+01])"
      ]
     },
     "execution_count": 7,
     "metadata": {},
     "output_type": "execute_result"
    }
   ],
   "source": [
    "log_reg.decision_function(X_test)"
   ]
  },
  {
   "cell_type": "code",
   "execution_count": 8,
   "metadata": {},
   "outputs": [
    {
     "data": {
      "text/plain": [
       "array([-38.69219361, -29.19167525, -17.50355948, -17.91978944,\n",
       "       -53.2944836 ])"
      ]
     },
     "execution_count": 8,
     "metadata": {},
     "output_type": "execute_result"
    }
   ],
   "source": [
    "log_reg.decision_function(X_test[:5])"
   ]
  },
  {
   "cell_type": "code",
   "execution_count": 9,
   "metadata": {},
   "outputs": [
    {
     "data": {
      "text/plain": [
       "array([0, 0, 0, 0, 0])"
      ]
     },
     "execution_count": 9,
     "metadata": {},
     "output_type": "execute_result"
    }
   ],
   "source": [
    "log_reg.predict(X_test)[:5]"
   ]
  },
  {
   "cell_type": "code",
   "execution_count": 10,
   "metadata": {},
   "outputs": [],
   "source": [
    "decision_scores = log_reg.decision_function(X_test)"
   ]
  },
  {
   "cell_type": "code",
   "execution_count": 11,
   "metadata": {},
   "outputs": [
    {
     "data": {
      "text/plain": [
       "-78.03108867528312"
      ]
     },
     "execution_count": 11,
     "metadata": {},
     "output_type": "execute_result"
    }
   ],
   "source": [
    "np.min(decision_scores)"
   ]
  },
  {
   "cell_type": "code",
   "execution_count": 12,
   "metadata": {},
   "outputs": [
    {
     "data": {
      "text/plain": [
       "12.748128383617177"
      ]
     },
     "execution_count": 12,
     "metadata": {},
     "output_type": "execute_result"
    }
   ],
   "source": [
    "np.max(decision_scores)"
   ]
  },
  {
   "cell_type": "code",
   "execution_count": 13,
   "metadata": {},
   "outputs": [],
   "source": [
    "y_log_predict_2 = np.array(decision_scores >= 5, dtype='int')"
   ]
  },
  {
   "cell_type": "code",
   "execution_count": 14,
   "metadata": {},
   "outputs": [
    {
     "data": {
      "text/plain": [
       "array([[409,   0],\n",
       "       [ 16,  25]])"
      ]
     },
     "execution_count": 14,
     "metadata": {},
     "output_type": "execute_result"
    }
   ],
   "source": [
    "confusion_matrix(y_test, y_log_predict_2)"
   ]
  },
  {
   "cell_type": "code",
   "execution_count": 15,
   "metadata": {},
   "outputs": [
    {
     "data": {
      "text/plain": [
       "1.0"
      ]
     },
     "execution_count": 15,
     "metadata": {},
     "output_type": "execute_result"
    }
   ],
   "source": [
    "precision_score(y_test, y_log_predict_2)"
   ]
  },
  {
   "cell_type": "code",
   "execution_count": 16,
   "metadata": {},
   "outputs": [
    {
     "data": {
      "text/plain": [
       "0.6097560975609756"
      ]
     },
     "execution_count": 16,
     "metadata": {},
     "output_type": "execute_result"
    }
   ],
   "source": [
    "recall_score(y_test, y_log_predict_2)"
   ]
  },
  {
   "cell_type": "code",
   "execution_count": 17,
   "metadata": {},
   "outputs": [],
   "source": [
    "y_log_predict_3 = np.array(decision_scores >= -5, dtype='int')"
   ]
  },
  {
   "cell_type": "code",
   "execution_count": 18,
   "metadata": {},
   "outputs": [
    {
     "data": {
      "text/plain": [
       "array([[387,  22],\n",
       "       [  2,  39]])"
      ]
     },
     "execution_count": 18,
     "metadata": {},
     "output_type": "execute_result"
    }
   ],
   "source": [
    "confusion_matrix(y_test, y_log_predict_3)"
   ]
  },
  {
   "cell_type": "code",
   "execution_count": 19,
   "metadata": {},
   "outputs": [
    {
     "data": {
      "text/plain": [
       "0.639344262295082"
      ]
     },
     "execution_count": 19,
     "metadata": {},
     "output_type": "execute_result"
    }
   ],
   "source": [
    "precision_score(y_test, y_log_predict_3)"
   ]
  },
  {
   "cell_type": "code",
   "execution_count": 20,
   "metadata": {},
   "outputs": [
    {
     "data": {
      "text/plain": [
       "0.9512195121951219"
      ]
     },
     "execution_count": 20,
     "metadata": {},
     "output_type": "execute_result"
    }
   ],
   "source": [
    "recall_score(y_test, y_log_predict_3)"
   ]
  },
  {
   "cell_type": "markdown",
   "metadata": {},
   "source": [
    "# Precision-Recall Curve"
   ]
  },
  {
   "cell_type": "code",
   "execution_count": 21,
   "metadata": {},
   "outputs": [],
   "source": [
    "precisions = []\n",
    "recalls = []\n",
    "thresholds = np.arange(np.min(decision_scores), np.max(decision_scores), 0.1)\n",
    "\n",
    "for threshold in thresholds:\n",
    "    y_predict = np.array(decision_scores >= threshold, dtype='int')\n",
    "    precisions.append(precision_score(y_test, y_predict))\n",
    "    recalls.append(recall_score(y_test, y_predict))"
   ]
  },
  {
   "cell_type": "code",
   "execution_count": 22,
   "metadata": {},
   "outputs": [
    {
     "data": {
      "text/plain": [
       "[<matplotlib.lines.Line2D at 0x11080a3c8>]"
      ]
     },
     "execution_count": 22,
     "metadata": {},
     "output_type": "execute_result"
    },
    {
     "data": {
      "image/png": "[encoded data removed]",
      "text/plain": [
       "<Figure size 432x288 with 1 Axes>"
      ]
     },
     "metadata": {
      "needs_background": "light"
     },
     "output_type": "display_data"
    }
   ],
   "source": [
    "plt.plot(thresholds, precisions)\n",
    "plt.plot(thresholds, recalls)"
   ]
  },
  {
   "cell_type": "code",
   "execution_count": 23,
   "metadata": {},
   "outputs": [
    {
     "data": {
      "text/plain": [
       "[<matplotlib.lines.Line2D at 0x11092aba8>]"
      ]
     },
     "execution_count": 23,
     "metadata": {},
     "output_type": "execute_result"
    },
    {
     "data": {
      "image/png": "[encoded data removed]",
      "text/plain": [
       "<Figure size 432x288 with 1 Axes>"
      ]
     },
     "metadata": {
      "needs_background": "light"
     },
     "output_type": "display_data"
    }
   ],
   "source": [
    "plt.plot(precisions, recalls)"
   ]
  },
  {
   "cell_type": "markdown",
   "metadata": {},
   "source": [
    "# Precision-Recall Curve in Scikit Learn"
   ]
  },
  {
   "cell_type": "code",
   "execution_count": 24,
   "metadata": {},
   "outputs": [],
   "source": [
    "from sklearn.metrics import precision_recall_curve\n",
    "\n",
    "precisions, recalls, thresholds = precision_recall_curve(y_test, decision_scores)"
   ]
  },
  {
   "cell_type": "code",
   "execution_count": 25,
   "metadata": {},
   "outputs": [
    {
     "data": {
      "text/plain": [
       "[<matplotlib.lines.Line2D at 0x11092af98>]"
      ]
     },
     "execution_count": 25,
     "metadata": {},
     "output_type": "execute_result"
    },
    {
     "data": {
      "image/png": "[encoded data removed]",
      "text/plain": [
       "<Figure size 432x288 with 1 Axes>"
      ]
     },
     "metadata": {
      "needs_background": "light"
     },
     "output_type": "display_data"
    }
   ],
   "source": [
    "plt.plot(thresholds, precisions[:-1])\n",
    "plt.plot(thresholds, recalls[:-1])"
   ]
  },
  {
   "cell_type": "code",
   "execution_count": 26,
   "metadata": {},
   "outputs": [
    {
     "data": {
      "text/plain": [
       "[<matplotlib.lines.Line2D at 0x112ffc588>]"
      ]
     },
     "execution_count": 26,
     "metadata": {},
     "output_type": "execute_result"
    },
    {
     "data": {
      "image/png": "[encoded data removed]",
      "text/plain": [
       "<Figure size 432x288 with 1 Axes>"
      ]
     },
     "metadata": {
      "needs_background": "light"
     },
     "output_type": "display_data"
    }
   ],
   "source": [
    "plt.plot(precisions, recalls)"
   ]
  },
  {
   "cell_type": "code",
   "execution_count": null,
   "metadata": {},
   "outputs": [],
   "source": []
  }
 ],
 "metadata": {
  "kernelspec": {
   "display_name": "Python 3",
   "language": "python",
   "name": "python3"
  },
  "language_info": {
   "codemirror_mode": {
    "name": "ipython",
    "version": 3
   },
   "file_extension": ".py",
   "mimetype": "text/x-python",
   "name": "python",
   "nbconvert_exporter": "python",
   "pygments_lexer": "ipython3",
   "version": "3.6.6"
  }
 },
 "nbformat": 4,
 "nbformat_minor": 2
}
